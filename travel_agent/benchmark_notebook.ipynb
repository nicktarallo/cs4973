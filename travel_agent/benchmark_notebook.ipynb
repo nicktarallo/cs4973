{
 "cells": [
  {
   "cell_type": "code",
   "execution_count": 2,
   "metadata": {},
   "outputs": [
    {
     "name": "stderr",
     "output_type": "stream",
     "text": [
      "c:\\Users\\gardy\\CS4973\\travel_agent\\.venv\\Lib\\site-packages\\tqdm\\auto.py:21: TqdmWarning: IProgress not found. Please update jupyter and ipywidgets. See https://ipywidgets.readthedocs.io/en/stable/user_install.html\n",
      "  from .autonotebook import tqdm as notebook_tqdm\n"
     ]
    }
   ],
   "source": [
    "from travel_agent import Agent, load_flights_dataset, eval_agent\n",
    "from openai import OpenAI\n",
    "from datasets import load_dataset\n",
    "import statistics\n",
    "from pathlib import Path\n",
    "\n",
    "BASE_URL = \"http://199.94.61.113:8000/v1/\"\n",
    "API_KEY = \"tarallo.n@northeastern.edu:OQEgetkQ6LBofgWW4jsC\"\n",
    "client = OpenAI(base_url=BASE_URL, api_key=API_KEY)\n",
    "flights = load_flights_dataset()\n"
   ]
  },
  {
   "cell_type": "code",
   "execution_count": 10,
   "metadata": {},
   "outputs": [
    {
     "name": "stdout",
     "output_type": "stream",
     "text": [
      "Path: test1.yaml\n",
      "Score: 1.0\n",
      "\n",
      "Path: test10.yaml\n",
      "Score: 0.16666666666666666\n",
      "\n",
      "Path: test2.yaml\n",
      "Score: 0.9166666666666666\n",
      "\n",
      "Path: test3.yaml\n",
      "Score: 1.0\n",
      "\n",
      "Path: test4.yaml\n",
      "Score: 0.0\n",
      "\n",
      "Path: test5.yaml\n",
      "Score: 0.6\n",
      "\n",
      "Path: test6.yaml\n",
      "Score: 1.0\n",
      "\n",
      "Path: test7.yaml\n",
      "Score: 1.0\n",
      "\n",
      "Path: test8.yaml\n",
      "Score: 1.0\n",
      "\n",
      "Path: test9.yaml\n",
      "Score: 1.0\n",
      "\n",
      "Average score: 0.7683333333333333\n"
     ]
    }
   ],
   "source": [
    "results = []\n",
    "for p in Path(\".\").glob(\"*.yaml\"):\n",
    "    results.append({'path': p, 'r': eval_agent(client, p, flights)})\n",
    "\n",
    "\n",
    "for result in results:\n",
    "    print(f\"Path: {result['path']}\")\n",
    "    print(f\"Score: {result['r'].score}\")\n",
    "    print()\n",
    "print(f\"Average score: {statistics.mean(result['r'].score for result in results)}\")"
   ]
  }
 ],
 "metadata": {
  "kernelspec": {
   "display_name": ".venv",
   "language": "python",
   "name": "python3"
  },
  "language_info": {
   "codemirror_mode": {
    "name": "ipython",
    "version": 3
   },
   "file_extension": ".py",
   "mimetype": "text/x-python",
   "name": "python",
   "nbconvert_exporter": "python",
   "pygments_lexer": "ipython3",
   "version": "3.11.4"
  }
 },
 "nbformat": 4,
 "nbformat_minor": 2
}
