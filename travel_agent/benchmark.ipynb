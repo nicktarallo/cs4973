{
 "cells": [
  {
   "cell_type": "code",
   "execution_count": 2,
   "metadata": {},
   "outputs": [],
   "source": [
    "from travel_agent import Agent, load_flights_dataset, eval_agent\n",
    "from openai import OpenAI\n",
    "from datasets import load_dataset\n",
    "import statistics\n",
    "from pathlib import Path\n",
    "\n",
    "BASE_URL = \"http://199.94.61.113:8000/v1/\"\n",
    "API_KEY = \"tarallo.n@northeastern.edu:OQEgetkQ6LBofgWW4jsC\"\n",
    "client = OpenAI(base_url=BASE_URL, api_key=API_KEY)\n",
    "flights = load_flights_dataset()\n"
   ]
  },
  {
   "cell_type": "code",
   "execution_count": 3,
   "metadata": {},
   "outputs": [
    {
     "name": "stdout",
     "output_type": "stream",
     "text": [
      "[Flight(id=20572, date=datetime.date(2023, 9, 27), airline='Southwest', flight_number='WN2178', origin='LAX', destination='JFK', departure_time=datetime.time(19, 1), arrival_time=datetime.time(21, 1), available_seats=53), Flight(id=20573, date=datetime.date(2023, 9, 27), airline='Delta', flight_number='DL8777', origin='LAX', destination='JFK', departure_time=datetime.time(21, 6), arrival_time=datetime.time(23, 6), available_seats=131)]\n",
      "20572\n",
      "[Flight(id=18660, date=datetime.date(2023, 9, 2), airline='Delta', flight_number='DL5104', origin='JFK', destination='ATL', departure_time=datetime.time(5, 54), arrival_time=datetime.time(7, 54), available_seats=136), Flight(id=18734, date=datetime.date(2023, 9, 3), airline='JetBlue', flight_number='B64096', origin='JFK', destination='ATL', departure_time=datetime.time(12, 42), arrival_time=datetime.time(14, 42), available_seats=119), Flight(id=18815, date=datetime.date(2023, 9, 4), airline='JetBlue', flight_number='B64096', origin='JFK', destination='ATL', departure_time=datetime.time(12, 42), arrival_time=datetime.time(14, 42), available_seats=148), Flight(id=18816, date=datetime.date(2023, 9, 4), airline='Delta', flight_number='DL5104', origin='JFK', destination='ATL', departure_time=datetime.time(5, 54), arrival_time=datetime.time(7, 54), available_seats=146), Flight(id=18894, date=datetime.date(2023, 9, 5), airline='JetBlue', flight_number='B64096', origin='JFK', destination='ATL', departure_time=datetime.time(12, 42), arrival_time=datetime.time(14, 42), available_seats=37), Flight(id=18976, date=datetime.date(2023, 9, 6), airline='JetBlue', flight_number='B64096', origin='JFK', destination='ATL', departure_time=datetime.time(12, 42), arrival_time=datetime.time(14, 42), available_seats=103)]\n",
      "[Flight(id=18894, date=datetime.date(2023, 9, 5), airline='JetBlue', flight_number='B64096', origin='JFK', destination='ATL', departure_time=datetime.time(12, 42), arrival_time=datetime.time(14, 42), available_seats=37), Flight(id=18976, date=datetime.date(2023, 9, 6), airline='JetBlue', flight_number='B64096', origin='JFK', destination='ATL', departure_time=datetime.time(12, 42), arrival_time=datetime.time(14, 42), available_seats=103)]\n",
      "[Flight(id=26868, date=datetime.date(2023, 12, 18), airline='American', flight_number='AA6925', origin='MIA', destination='ATL', departure_time=datetime.time(0, 45), arrival_time=datetime.time(2, 45), available_seats=92)]\n",
      "[Flight(id=24266, date=datetime.date(2023, 11, 14), airline='American', flight_number='AA6673', origin='MIA', destination='JFK', departure_time=datetime.time(17, 56), arrival_time=datetime.time(19, 56), available_seats=17), Flight(id=24267, date=datetime.date(2023, 11, 14), airline='Delta', flight_number='DL7644', origin='MIA', destination='JFK', departure_time=datetime.time(4, 14), arrival_time=datetime.time(6, 14), available_seats=34)]\n",
      "24266\n",
      "[Flight(id=24777, date=datetime.date(2023, 11, 21), airline='JetBlue', flight_number='B64486', origin='JFK', destination='MIA', departure_time=datetime.time(7, 56), arrival_time=datetime.time(9, 56), available_seats=22)]\n",
      "24777\n",
      "[Flight(id=18926, date=datetime.date(2023, 9, 5), airline='Southwest', flight_number='WN5477', origin='MIA', destination='SEA', departure_time=datetime.time(21, 5), arrival_time=datetime.time(23, 5), available_seats=62), Flight(id=18927, date=datetime.date(2023, 9, 5), airline='JetBlue', flight_number='B67634', origin='MIA', destination='SEA', departure_time=datetime.time(21, 36), arrival_time=datetime.time(23, 36), available_seats=159), Flight(id=19009, date=datetime.date(2023, 9, 6), airline='Delta', flight_number='DL3965', origin='MIA', destination='SEA', departure_time=datetime.time(19, 58), arrival_time=datetime.time(21, 58), available_seats=162), Flight(id=19010, date=datetime.date(2023, 9, 6), airline='Southwest', flight_number='WN5477', origin='MIA', destination='SEA', departure_time=datetime.time(21, 5), arrival_time=datetime.time(23, 5), available_seats=138), Flight(id=19011, date=datetime.date(2023, 9, 6), airline='JetBlue', flight_number='B67634', origin='MIA', destination='SEA', departure_time=datetime.time(21, 36), arrival_time=datetime.time(23, 36), available_seats=57)]\n",
      "18927\n",
      "19011\n",
      "[Flight(id=18738, date=datetime.date(2023, 9, 3), airline='United', flight_number='UA3580', origin='DFW', destination='BOS', departure_time=datetime.time(8, 0), arrival_time=datetime.time(10, 0), available_seats=87), Flight(id=18739, date=datetime.date(2023, 9, 3), airline='American', flight_number='AA5244', origin='DFW', destination='BOS', departure_time=datetime.time(0, 41), arrival_time=datetime.time(2, 41), available_seats=113), Flight(id=18740, date=datetime.date(2023, 9, 3), airline='Delta', flight_number='DL7842', origin='DFW', destination='BOS', departure_time=datetime.time(23, 17), arrival_time=datetime.time(1, 17), available_seats=141)]\n",
      "18740\n",
      "[Flight(id=19333, date=datetime.date(2023, 9, 10), airline='Southwest', flight_number='WN7580', origin='BOS', destination='DFW', departure_time=datetime.time(13, 49), arrival_time=datetime.time(15, 49), available_seats=66)]\n",
      "[Flight(id=27312, date=datetime.date(2023, 12, 24), airline='JetBlue', flight_number='B63343', origin='ATL', destination='BOS', departure_time=datetime.time(20, 57), arrival_time=datetime.time(22, 57), available_seats=85), Flight(id=27313, date=datetime.date(2023, 12, 24), airline='Southwest', flight_number='WN3228', origin='ATL', destination='BOS', departure_time=datetime.time(16, 24), arrival_time=datetime.time(18, 24), available_seats=107), Flight(id=27395, date=datetime.date(2023, 12, 25), airline='United', flight_number='UA3604', origin='ATL', destination='BOS', departure_time=datetime.time(12, 55), arrival_time=datetime.time(14, 55), available_seats=28), Flight(id=27396, date=datetime.date(2023, 12, 25), airline='Southwest', flight_number='WN3228', origin='ATL', destination='BOS', departure_time=datetime.time(16, 24), arrival_time=datetime.time(18, 24), available_seats=80)]\n",
      "[Flight(id=26777, date=datetime.date(2023, 12, 17), airline='JetBlue', flight_number='B63343', origin='ATL', destination='BOS', departure_time=datetime.time(20, 57), arrival_time=datetime.time(22, 57), available_seats=10), Flight(id=26778, date=datetime.date(2023, 12, 17), airline='Southwest', flight_number='WN3228', origin='ATL', destination='BOS', departure_time=datetime.time(16, 24), arrival_time=datetime.time(18, 24), available_seats=10), Flight(id=26860, date=datetime.date(2023, 12, 18), airline='United', flight_number='UA3604', origin='ATL', destination='BOS', departure_time=datetime.time(12, 55), arrival_time=datetime.time(14, 55), available_seats=113), Flight(id=26861, date=datetime.date(2023, 12, 18), airline='Southwest', flight_number='WN3228', origin='ATL', destination='BOS', departure_time=datetime.time(16, 24), arrival_time=datetime.time(18, 24), available_seats=94)]\n",
      "'NoneType' object is not iterable\n",
      "18644\n",
      "[Flight(id=18892, date=datetime.date(2023, 9, 5), airline='JetBlue', flight_number='B64486', origin='JFK', destination='MIA', departure_time=datetime.time(7, 56), arrival_time=datetime.time(9, 56), available_seats=96), Flight(id=18955, date=datetime.date(2023, 9, 5), airline='American', flight_number='AA8691', origin='EWR', destination='MIA', departure_time=datetime.time(16, 31), arrival_time=datetime.time(18, 31), available_seats=36), Flight(id=18956, date=datetime.date(2023, 9, 5), airline='Southwest', flight_number='WN8053', origin='EWR', destination='MIA', departure_time=datetime.time(20, 30), arrival_time=datetime.time(22, 30), available_seats=46), Flight(id=18964, date=datetime.date(2023, 9, 5), airline='JetBlue', flight_number='B63578', origin='JFK', destination='SFO', departure_time=datetime.time(17, 30), arrival_time=datetime.time(19, 30), available_seats=79), Flight(id=18965, date=datetime.date(2023, 9, 5), airline='Southwest', flight_number='WN4160', origin='JFK', destination='SFO', departure_time=datetime.time(8, 14), arrival_time=datetime.time(10, 14), available_seats=92), Flight(id=18966, date=datetime.date(2023, 9, 5), airline='Delta', flight_number='DL5778', origin='JFK', destination='SFO', departure_time=datetime.time(0, 54), arrival_time=datetime.time(2, 54), available_seats=58), Flight(id=19036, date=datetime.date(2023, 9, 6), airline='American', flight_number='AA8691', origin='EWR', destination='MIA', departure_time=datetime.time(16, 31), arrival_time=datetime.time(18, 31), available_seats=117), Flight(id=19037, date=datetime.date(2023, 9, 6), airline='Southwest', flight_number='WN8053', origin='EWR', destination='MIA', departure_time=datetime.time(20, 30), arrival_time=datetime.time(22, 30), available_seats=56), Flight(id=19043, date=datetime.date(2023, 9, 6), airline='Southwest', flight_number='WN4160', origin='JFK', destination='SFO', departure_time=datetime.time(8, 14), arrival_time=datetime.time(10, 14), available_seats=79), Flight(id=19044, date=datetime.date(2023, 9, 6), airline='Delta', flight_number='DL5778', origin='JFK', destination='SFO', departure_time=datetime.time(0, 54), arrival_time=datetime.time(2, 54), available_seats=164), Flight(id=19111, date=datetime.date(2023, 9, 7), airline='Southwest', flight_number='WN8053', origin='EWR', destination='MIA', departure_time=datetime.time(20, 30), arrival_time=datetime.time(22, 30), available_seats=138), Flight(id=19117, date=datetime.date(2023, 9, 7), airline='JetBlue', flight_number='B63578', origin='JFK', destination='SFO', departure_time=datetime.time(17, 30), arrival_time=datetime.time(19, 30), available_seats=163), Flight(id=19118, date=datetime.date(2023, 9, 7), airline='Southwest', flight_number='WN4160', origin='JFK', destination='SFO', departure_time=datetime.time(8, 14), arrival_time=datetime.time(10, 14), available_seats=81), Flight(id=19119, date=datetime.date(2023, 9, 7), airline='Delta', flight_number='DL5778', origin='JFK', destination='SFO', departure_time=datetime.time(0, 54), arrival_time=datetime.time(2, 54), available_seats=25), Flight(id=19179, date=datetime.date(2023, 9, 8), airline='American', flight_number='AA8691', origin='EWR', destination='MIA', departure_time=datetime.time(16, 31), arrival_time=datetime.time(18, 31), available_seats=108), Flight(id=19186, date=datetime.date(2023, 9, 8), airline='JetBlue', flight_number='B63578', origin='JFK', destination='SFO', departure_time=datetime.time(17, 30), arrival_time=datetime.time(19, 30), available_seats=22), Flight(id=19193, date=datetime.date(2023, 9, 9), airline='JetBlue', flight_number='B64486', origin='JFK', destination='MIA', departure_time=datetime.time(7, 56), arrival_time=datetime.time(9, 56), available_seats=63), Flight(id=19252, date=datetime.date(2023, 9, 9), airline='Southwest', flight_number='WN8053', origin='EWR', destination='MIA', departure_time=datetime.time(20, 30), arrival_time=datetime.time(22, 30), available_seats=102), Flight(id=19258, date=datetime.date(2023, 9, 9), airline='Southwest', flight_number='WN4160', origin='JFK', destination='SFO', departure_time=datetime.time(8, 14), arrival_time=datetime.time(10, 14), available_seats=39), Flight(id=19259, date=datetime.date(2023, 9, 9), airline='Delta', flight_number='DL5778', origin='JFK', destination='SFO', departure_time=datetime.time(0, 54), arrival_time=datetime.time(2, 54), available_seats=17)]\n",
      "[Flight(id=69, date=datetime.date(2023, 1, 1), airline='American', flight_number='AA4931', origin='DEN', destination='JFK', departure_time=datetime.time(1, 51), arrival_time=datetime.time(3, 51), available_seats=98), Flight(id=70, date=datetime.date(2023, 1, 1), airline='Delta', flight_number='DL3519', origin='DEN', destination='JFK', departure_time=datetime.time(14, 18), arrival_time=datetime.time(16, 18), available_seats=151)]\n",
      "[Flight(id=593, date=datetime.date(2023, 1, 8), airline='United', flight_number='UA6409', origin='JFK', destination='DEN', departure_time=datetime.time(2, 56), arrival_time=datetime.time(4, 56), available_seats=171)]\n",
      "[Flight(id=593, date=datetime.date(2023, 1, 8), airline='United', flight_number='UA6409', origin='JFK', destination='DEN', departure_time=datetime.time(2, 56), arrival_time=datetime.time(4, 56), available_seats=171)]\n",
      "[Flight(id=514, date=datetime.date(2023, 1, 7), airline='American', flight_number='AA5890', origin='JFK', destination='DEN', departure_time=datetime.time(12, 22), arrival_time=datetime.time(14, 22), available_seats=169), Flight(id=515, date=datetime.date(2023, 1, 7), airline='United', flight_number='UA6409', origin='JFK', destination='DEN', departure_time=datetime.time(2, 56), arrival_time=datetime.time(4, 56), available_seats=105)]\n",
      "[]\n",
      "Path: test1.yaml\n",
      "1.0\n",
      "\n",
      "Path: test10.yaml\n",
      "0.2\n",
      "\n",
      "Path: test2.yaml\n",
      "0.9166666666666666\n",
      "\n",
      "Path: test3.yaml\n",
      "0.6\n",
      "\n",
      "Path: test4.yaml\n",
      "0.0\n",
      "\n",
      "Path: test5.yaml\n",
      "0.6\n",
      "\n",
      "Path: test6.yaml\n",
      "0.0\n",
      "\n",
      "Path: test7.yaml\n",
      "0.0\n",
      "\n",
      "Path: test8.yaml\n",
      "1.0\n",
      "\n",
      "Path: test9.yaml\n",
      "0.0\n",
      "\n"
     ]
    },
    {
     "ename": "AttributeError",
     "evalue": "'dict' object has no attribute 'score'",
     "output_type": "error",
     "traceback": [
      "\u001b[1;31m---------------------------------------------------------------------------\u001b[0m",
      "\u001b[1;31mAttributeError\u001b[0m                            Traceback (most recent call last)",
      "Cell \u001b[1;32mIn[3], line 10\u001b[0m\n\u001b[0;32m      8\u001b[0m     \u001b[38;5;28mprint\u001b[39m(result[\u001b[38;5;124m'\u001b[39m\u001b[38;5;124mr\u001b[39m\u001b[38;5;124m'\u001b[39m]\u001b[38;5;241m.\u001b[39mscore)\n\u001b[0;32m      9\u001b[0m     \u001b[38;5;28mprint\u001b[39m()\n\u001b[1;32m---> 10\u001b[0m \u001b[38;5;28mprint\u001b[39m(\u001b[43mstatistics\u001b[49m\u001b[38;5;241;43m.\u001b[39;49m\u001b[43mmean\u001b[49m\u001b[43m(\u001b[49m\u001b[43mr\u001b[49m\u001b[38;5;241;43m.\u001b[39;49m\u001b[43mscore\u001b[49m\u001b[43m \u001b[49m\u001b[38;5;28;43;01mfor\u001b[39;49;00m\u001b[43m \u001b[49m\u001b[43mr\u001b[49m\u001b[43m \u001b[49m\u001b[38;5;129;43;01min\u001b[39;49;00m\u001b[43m \u001b[49m\u001b[43mresults\u001b[49m\u001b[43m)\u001b[49m)\n",
      "File \u001b[1;32m~\\AppData\\Local\\Programs\\Python\\Python311\\Lib\\statistics.py:430\u001b[0m, in \u001b[0;36mmean\u001b[1;34m(data)\u001b[0m\n\u001b[0;32m    414\u001b[0m \u001b[38;5;28;01mdef\u001b[39;00m \u001b[38;5;21mmean\u001b[39m(data):\n\u001b[0;32m    415\u001b[0m \u001b[38;5;250m    \u001b[39m\u001b[38;5;124;03m\"\"\"Return the sample arithmetic mean of data.\u001b[39;00m\n\u001b[0;32m    416\u001b[0m \n\u001b[0;32m    417\u001b[0m \u001b[38;5;124;03m    >>> mean([1, 2, 3, 4, 4])\u001b[39;00m\n\u001b[1;32m   (...)\u001b[0m\n\u001b[0;32m    428\u001b[0m \u001b[38;5;124;03m    If ``data`` is empty, StatisticsError will be raised.\u001b[39;00m\n\u001b[0;32m    429\u001b[0m \u001b[38;5;124;03m    \"\"\"\u001b[39;00m\n\u001b[1;32m--> 430\u001b[0m     T, total, n \u001b[38;5;241m=\u001b[39m \u001b[43m_sum\u001b[49m\u001b[43m(\u001b[49m\u001b[43mdata\u001b[49m\u001b[43m)\u001b[49m\n\u001b[0;32m    431\u001b[0m     \u001b[38;5;28;01mif\u001b[39;00m n \u001b[38;5;241m<\u001b[39m \u001b[38;5;241m1\u001b[39m:\n\u001b[0;32m    432\u001b[0m         \u001b[38;5;28;01mraise\u001b[39;00m StatisticsError(\u001b[38;5;124m'\u001b[39m\u001b[38;5;124mmean requires at least one data point\u001b[39m\u001b[38;5;124m'\u001b[39m)\n",
      "File \u001b[1;32m~\\AppData\\Local\\Programs\\Python\\Python311\\Lib\\statistics.py:191\u001b[0m, in \u001b[0;36m_sum\u001b[1;34m(data)\u001b[0m\n\u001b[0;32m    189\u001b[0m partials \u001b[38;5;241m=\u001b[39m {}\n\u001b[0;32m    190\u001b[0m partials_get \u001b[38;5;241m=\u001b[39m partials\u001b[38;5;241m.\u001b[39mget\n\u001b[1;32m--> 191\u001b[0m \u001b[43m\u001b[49m\u001b[38;5;28;43;01mfor\u001b[39;49;00m\u001b[43m \u001b[49m\u001b[43mtyp\u001b[49m\u001b[43m,\u001b[49m\u001b[43m \u001b[49m\u001b[43mvalues\u001b[49m\u001b[43m \u001b[49m\u001b[38;5;129;43;01min\u001b[39;49;00m\u001b[43m \u001b[49m\u001b[43mgroupby\u001b[49m\u001b[43m(\u001b[49m\u001b[43mdata\u001b[49m\u001b[43m,\u001b[49m\u001b[43m \u001b[49m\u001b[38;5;28;43mtype\u001b[39;49m\u001b[43m)\u001b[49m\u001b[43m:\u001b[49m\n\u001b[0;32m    192\u001b[0m \u001b[43m    \u001b[49m\u001b[43mtypes_add\u001b[49m\u001b[43m(\u001b[49m\u001b[43mtyp\u001b[49m\u001b[43m)\u001b[49m\n\u001b[0;32m    193\u001b[0m \u001b[43m    \u001b[49m\u001b[38;5;28;43;01mfor\u001b[39;49;00m\u001b[43m \u001b[49m\u001b[43mn\u001b[49m\u001b[43m,\u001b[49m\u001b[43m \u001b[49m\u001b[43md\u001b[49m\u001b[43m \u001b[49m\u001b[38;5;129;43;01min\u001b[39;49;00m\u001b[43m \u001b[49m\u001b[38;5;28;43mmap\u001b[39;49m\u001b[43m(\u001b[49m\u001b[43m_exact_ratio\u001b[49m\u001b[43m,\u001b[49m\u001b[43m \u001b[49m\u001b[43mvalues\u001b[49m\u001b[43m)\u001b[49m\u001b[43m:\u001b[49m\n",
      "Cell \u001b[1;32mIn[3], line 10\u001b[0m, in \u001b[0;36m<genexpr>\u001b[1;34m(.0)\u001b[0m\n\u001b[0;32m      8\u001b[0m     \u001b[38;5;28mprint\u001b[39m(result[\u001b[38;5;124m'\u001b[39m\u001b[38;5;124mr\u001b[39m\u001b[38;5;124m'\u001b[39m]\u001b[38;5;241m.\u001b[39mscore)\n\u001b[0;32m      9\u001b[0m     \u001b[38;5;28mprint\u001b[39m()\n\u001b[1;32m---> 10\u001b[0m \u001b[38;5;28mprint\u001b[39m(statistics\u001b[38;5;241m.\u001b[39mmean(\u001b[43mr\u001b[49m\u001b[38;5;241;43m.\u001b[39;49m\u001b[43mscore\u001b[49m \u001b[38;5;28;01mfor\u001b[39;00m r \u001b[38;5;129;01min\u001b[39;00m results))\n",
      "\u001b[1;31mAttributeError\u001b[0m: 'dict' object has no attribute 'score'"
     ]
    }
   ],
   "source": [
    "results = []\n",
    "for p in Path(\".\").glob(\"*.yaml\"):\n",
    "    results.append({'path': p, 'r': eval_agent(client, p, flights)})\n",
    "\n",
    "\n",
    "for result in results:\n",
    "    print(f\"Path: {result['path']}\")\n",
    "    print(f\"Score: {result['r'].score}\")\n",
    "    print()\n",
    "print(f\"Average score: {statistics.mean(r.score for r in results)}\")"
   ]
  },
  {
   "cell_type": "code",
   "execution_count": null,
   "metadata": {},
   "outputs": [],
   "source": []
  }
 ],
 "metadata": {
  "kernelspec": {
   "display_name": ".venv",
   "language": "python",
   "name": "python3"
  },
  "language_info": {
   "codemirror_mode": {
    "name": "ipython",
    "version": 3
   },
   "file_extension": ".py",
   "mimetype": "text/x-python",
   "name": "python",
   "nbconvert_exporter": "python",
   "pygments_lexer": "ipython3",
   "version": "3.11.4"
  }
 },
 "nbformat": 4,
 "nbformat_minor": 2
}
