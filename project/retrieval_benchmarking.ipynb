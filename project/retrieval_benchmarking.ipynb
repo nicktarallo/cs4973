{
 "cells": [
  {
   "cell_type": "markdown",
   "metadata": {},
   "source": [
    "We will benchmark by attempting retrieval from the Chroma database. Each resume in the dataset was synthetically created using Llama by telling it\n",
    "to make a resume that would be a good applicant to the given job description (we did this for each of the 100 job descriptions). \n",
    "This gives us a psuedo-\"correct\" answer to retrieval - in the sense that we would expect\n",
    "our system to rank the matching job listing very highly when provided the exact job listing. For each of the 100 resumes in the dataset, we will get the 100\n",
    "job listings ranked by relevance, and get the position of the listing that we expect to be closest. Then, we will take an average of these results.\n",
    "\n",
    "A perfect result would be an average of 1. This would suggest that the matching job listing was ranked as the most relevant listing for each\n",
    "resume in the dataset."
   ]
  },
  {
   "cell_type": "code",
   "execution_count": null,
   "metadata": {},
   "outputs": [],
   "source": []
  },
  {
   "cell_type": "code",
   "execution_count": 1,
   "metadata": {},
   "outputs": [
    {
     "name": "stderr",
     "output_type": "stream",
     "text": [
      "c:\\Users\\gardy\\CS4973\\travel_agent\\.venv\\Lib\\site-packages\\tqdm\\auto.py:21: TqdmWarning: IProgress not found. Please update jupyter and ipywidgets. See https://ipywidgets.readthedocs.io/en/stable/user_install.html\n",
      "  from .autonotebook import tqdm as notebook_tqdm\n"
     ]
    }
   ],
   "source": [
    "import chromadb\n",
    "from datasets import Dataset\n",
    "import statistics\n"
   ]
  },
  {
   "cell_type": "code",
   "execution_count": 2,
   "metadata": {},
   "outputs": [
    {
     "name": "stdout",
     "output_type": "stream",
     "text": [
      "len=100\n",
      "avg=1.51\n"
     ]
    }
   ],
   "source": [
    "resumes = Dataset.from_json(\n",
    "    'resumes.jsonl'\n",
    ")\n",
    "# Create a ChromaDB client\n",
    "chroma_client = chromadb.PersistentClient(path=\"client\")\n",
    "\n",
    "# Access the existing collection by name\n",
    "collection = chroma_client.get_collection(name=\"job_listing_collection\")\n",
    "\n",
    "all_results = []\n",
    "\n",
    "for resume in resumes:\n",
    "    results = collection.query(\n",
    "        query_texts=resume['resume'],\n",
    "        n_results=100  # How many results to return\n",
    "    )\n",
    "\n",
    "    for i, job_id in enumerate(results['ids'][0]):\n",
    "        if job_id == str(resume['associated_job_id']):\n",
    "            all_results.append(i + 1)\n",
    "            break\n",
    "\n",
    "print(f'len={len(all_results)}')\n",
    "print(f'avg={statistics.mean(all_results)}')\n",
    "    "
   ]
  },
  {
   "cell_type": "code",
   "execution_count": null,
   "metadata": {},
   "outputs": [],
   "source": []
  }
 ],
 "metadata": {
  "kernelspec": {
   "display_name": ".venv",
   "language": "python",
   "name": "python3"
  },
  "language_info": {
   "codemirror_mode": {
    "name": "ipython",
    "version": 3
   },
   "file_extension": ".py",
   "mimetype": "text/x-python",
   "name": "python",
   "nbconvert_exporter": "python",
   "pygments_lexer": "ipython3",
   "version": "3.11.4"
  }
 },
 "nbformat": 4,
 "nbformat_minor": 2
}
