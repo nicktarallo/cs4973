{
 "cells": [
  {
   "cell_type": "code",
   "execution_count": 2,
   "metadata": {},
   "outputs": [],
   "source": [
    "import chromadb"
   ]
  },
  {
   "cell_type": "code",
   "execution_count": 3,
   "metadata": {},
   "outputs": [],
   "source": [
    "# Create a ChromaDB client\n",
    "chroma_client = chromadb.PersistentClient(path=\"client\")\n",
    "\n",
    "# Access the existing collection by name\n",
    "collection = chroma_client.get_collection(name=\"job_listing_collection\")"
   ]
  },
  {
   "cell_type": "code",
   "execution_count": 4,
   "metadata": {},
   "outputs": [
    {
     "data": {
      "text/plain": [
       "{'application_cover_letter': \"Dear Hiring Manager,\\n\\nI am excited to apply for the Senior Software Engineer position at Amazon, as described in the job description. With over 8 years of experience in software development, I am confident that my skills and expertise align with the requirements of this role.\\n\\nAs a seasoned software engineer, I have a proven track record of designing, developing, and maintaining large-scale software systems. My experience at Microsoft Corporation, where I led a team of 10 engineers to develop scalable cloud-based solutions, demonstrates my ability to collaborate with cross-functional teams and drive technical projects forward. My implementation of security protocols at Microsoft reduced potential breaches by 30%, showcasing my expertise in ensuring the security and reliability of software systems.\\n\\nMy experience at Google LLC, where I developed and maintained search algorithms for Google's core search engine, has given me a deep understanding of software development principles and best practices. I have also honed my skills in cloud platforms, data structures and algorithms, machine learning and AI, and team leadership and project management.\\n\\nI am particularly drawn to this role at Amazon because of the opportunity to work with cutting-edge technologies and tools, and to contribute to the development of large-scale software systems that power Amazon's e-commerce platform. My experience with agile methodologies, version control systems, and my proficiency in Java, Python, and C++ make me an ideal candidate for this position.\\n\\nIn addition to my technical skills, I possess excellent communication and collaboration skills, which have been essential in my previous roles. I am a strong problem-solver and analytical thinker, and I thrive in dynamic and fast-paced environments.\\n\\nI am excited about the opportunity to join the Amazon team and contribute to the company's mission to be the most customer-obsessed company on earth. Thank you for considering my application. I look forward to the opportunity to discuss my qualifications further.\\n\\nSincerely,\\nJohn Doe\",\n",
       " 'application_email': 'john.doe@email.com',\n",
       " 'application_name': 'John Doe',\n",
       " 'application_resume': \"John Doe 1234 Elm Street Boston, MA 02118 Phone: (617) 555-1234 Email: john.doe@email.com\\n\\nProfessional Experience\\nMicrosoft Corporation Senior Software Engineer January 2018 â€“ Present\\n\\nLed a team of 10 engineers to develop scalable cloud-based solutions.\\n\\nImplemented security protocols that reduced potential breaches by 30%.\\n\\nSpearheaded the migration to Azure, improving system reliability by 50%.\\n\\nGoogle LLC Software Engineer July 2014 â€“ December 2017\\n\\nDeveloped and maintained search algorithms for Google's core search engine.\\n\\nCollaborated on cross-functional teams to enhance user data privacy.\\n\\nIncreased query handling efficiency by 20% through innovative algorithm optimization.\\n\\nAmazon.com, Inc. Junior Software Engineer June 2012 â€“ June 2014\\n\\nWorked on backend systems for Amazon's recommendation engine.\\n\\nImproved the efficiency of data storage solutions by 25%.\\n\\nAutomated routine tasks, resulting in a 15% reduction in workload.\\n\\nEducation\\nMassachusetts Institute of Technology (MIT) Bachelor of Science in Computer Science September 2008 â€“ June 2012\\n\\nGraduated with Honors.\\n\\nRelevant coursework: Algorithms, Machine Learning, Data Structures.\\n\\nSkills\\nProgramming Languages: Python, Java, C++\\n\\nCloud Platforms: Azure, AWS, GCP\\n\\nData Structures and Algorithms\\n\\nMachine Learning and AI\\n\\nTeam Leadership and Project Management\\n\\nSecurity and Data Privacy\\n\\nCertifications\\nAWS Certified Solutions Architect\\n\\nCertified Information Systems Security Professional (CISSP)\\n\\nProfessional Affiliations\\nMember, Association for Computing Machinery (ACM)\\n\\nMember, IEEE Computer Society\\n\\nProjects\\nOpen Source Contributions\\n\\nContributed to TensorFlow, improving model training efficiency.\\n\\nDeveloped a Python package for data visualization, with over 1,000 downloads.\\n\\nPersonal Projects\\n\\nBuilt a smart home automation system using Raspberry Pi and IoT devices.\\n\\nDeveloped a mobile app for personal finance management with over 5,000 downloads.\",\n",
       " 'company': 'Amazon',\n",
       " 'title': 'Senior Software Engineer'}"
      ]
     },
     "execution_count": 4,
     "metadata": {},
     "output_type": "execute_result"
    }
   ],
   "source": [
    "results = collection.get(\n",
    "    ids=[str(0)],\n",
    ")\n",
    "\n",
    "results['metadatas'][0]\n"
   ]
  },
  {
   "cell_type": "code",
   "execution_count": null,
   "metadata": {},
   "outputs": [],
   "source": []
  }
 ],
 "metadata": {
  "kernelspec": {
   "display_name": ".venv",
   "language": "python",
   "name": "python3"
  },
  "language_info": {
   "codemirror_mode": {
    "name": "ipython",
    "version": 3
   },
   "file_extension": ".py",
   "mimetype": "text/x-python",
   "name": "python",
   "nbconvert_exporter": "python",
   "pygments_lexer": "ipython3",
   "version": "3.11.4"
  }
 },
 "nbformat": 4,
 "nbformat_minor": 2
}
