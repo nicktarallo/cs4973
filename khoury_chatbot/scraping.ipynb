{
 "cells": [
  {
   "cell_type": "markdown",
   "id": "9d597616",
   "metadata": {},
   "source": [
    "# Web Scraping Project\n",
    "\n",
    "This notebook contains the web scraping process for extracting content from specified Northeastern University catalog pages, including their subpages. The content will be converted from HTML to Markdown format."
   ]
  },
  {
   "cell_type": "markdown",
   "id": "c66cdddd",
   "metadata": {},
   "source": [
    "## Task 1: Scrape Content from Specified URLs and Subpages\n",
    "\n",
    "This task involves:\n",
    "- Downloading the main pages at the provided URLs.\n",
    "- Identifying and downloading the subpages for each main URL.\n",
    "- Converting each page's HTML content to Markdown format.\n",
    "\n",
    "Each page is represented as a dictionary with two keys:\n",
    "- `url`: URL of the page.\n",
    "- `content`: Content of the page in Markdown format as a string."
   ]
  },
  {
   "cell_type": "code",
   "execution_count": 22,
   "id": "e66aa78a",
   "metadata": {},
   "outputs": [],
   "source": [
    "\n",
    "import requests\n",
    "from bs4 import BeautifulSoup\n",
    "from markdownify import markdownify as md\n",
    "import re\n",
    "import time\n"
   ]
  },
  {
   "cell_type": "code",
   "execution_count": null,
   "id": "bed14dc8",
   "metadata": {},
   "outputs": [],
   "source": [
    "\n",
    "def get_page_content(url):\n",
    "    \"\"\"Fetch HTML content of the given URL and return as text.\"\"\"\n",
    "    try:\n",
    "        response = requests.get(url)\n",
    "        response.raise_for_status()\n",
    "        return response.text\n",
    "    except requests.RequestException as e:\n",
    "        print(f\"Failed to retrieve {url}: {e}\")\n",
    "        return None\n",
    "\n",
    "# Function to find subpage URLs within the page content\n",
    "def find_subpages(main_url, html_content):\n",
    "    \"\"\"Extract subpage URLs that start with the main URL from HTML content.\"\"\"\n",
    "    soup = BeautifulSoup(html_content, 'html.parser')\n",
    "    subpage_links = set()\n",
    "    for link in soup.find_all('a', href=True):\n",
    "        href = link['href']\n",
    "        if href.endswith('/'):\n",
    "            href = 'https://catalog.northeastern.edu' + href\n",
    "        # Only add links that start with the main URL\n",
    "        if href.startswith(main_url) and not href.endswith('.pdf') and href not in subpage_links:\n",
    "            subpage_links.add(href)\n",
    "    return list(subpage_links)\n",
    "\n",
    "def convert_to_markdown(html_content):\n",
    "    \"\"\"Convert HTML content to Markdown format.\"\"\"\n",
    "    return md(html_content)\n",
    "\n",
    "\n",
    "# Recursive function for scraping main page and subpages\n",
    "def scrape_recursive(url, visited_pages, scraped_pages):\n",
    "    \"\"\"Recursively scrape a page and its subpages.\"\"\"\n",
    "    if url in visited_pages:\n",
    "        return  # Skip already visited pages\n",
    "\n",
    "    print(f\"Scraping: {url}\")\n",
    "    content = get_page_content(url)\n",
    "    if content:\n",
    "        page_data = {\n",
    "            \"url\": url,\n",
    "            \"content\": convert_to_markdown(content)\n",
    "        }\n",
    "        scraped_pages.append(page_data)  # Add scraped page to list\n",
    "        visited_pages.add(url)  # Mark the page as visited\n",
    "\n",
    "        # Find subpages and recurse into each one\n",
    "        subpages = find_subpages(url, content)\n",
    "        print(f\"Found {len(subpages)} subpages for {url}\")\n",
    "\n",
    "        for subpage_url in subpages:\n",
    "            scrape_recursive(subpage_url, visited_pages, scraped_pages)  # Recurse for each subpage\n",
    "            time.sleep(1)  # Delay to avoid server overload\n",
    "\n",
    "# Initial URLs and starting the recursive scraping\n",
    "main_urls = [\n",
    "    \"https://catalog.northeastern.edu/undergraduate/computer-information-science/\",\n",
    "    \"https://catalog.northeastern.edu/graduate/computer-information-science/\"\n",
    "]\n",
    "\n",
    "# Sample URLs\n",
    "main_urls = [\n",
    "    \"https://catalog.northeastern.edu/undergraduate/computer-information-science/\",\n",
    "    \"https://catalog.northeastern.edu/graduate/computer-information-science/\"\n",
    "]\n"
   ]
  },
  {
   "cell_type": "code",
   "execution_count": 24,
   "id": "761dca2b",
   "metadata": {},
   "outputs": [
    {
     "name": "stdout",
     "output_type": "stream",
     "text": [
      "Scraping: https://catalog.northeastern.edu/undergraduate/computer-information-science/\n",
      "Found 0 subpages for https://catalog.northeastern.edu/undergraduate/computer-information-science/\n",
      "Scraping: https://catalog.northeastern.edu/graduate/computer-information-science/\n",
      "Found 0 subpages for https://catalog.northeastern.edu/graduate/computer-information-science/\n",
      "Recursive scraping completed.\n"
     ]
    }
   ],
   "source": [
    "\n",
    "# Task 1: Download main pages, find subpages, and convert content to markdown\n",
    "\n",
    "scraped_pages = []\n",
    "visited_pages = set()\n",
    "\n",
    "# Start recursive scraping for each main URL\n",
    "for url in main_urls:\n",
    "    scrape_recursive(url, visited_pages, scraped_pages)\n",
    "\n",
    "print(\"Recursive scraping completed.\")\n"
   ]
  },
  {
   "cell_type": "code",
   "execution_count": 21,
   "id": "3e2642a4",
   "metadata": {},
   "outputs": [
    {
     "data": {
      "text/plain": [
       "[{'url': 'https://catalog.northeastern.edu/undergraduate/computer-information-science/',\n",
       "  'content': '\\n\\n\\n\\n\\nKhoury College of Computer Sciences \\\\< Northeastern University Academic Catalog\\n\\n\\n\\n\\n\\n\\n\\n\\n\\n\\n\\n\\n\\n\\n\\n\\n\\n\\n\\n\\n\\n\\n\\n\\n* [Skip to Content](#contentarea)\\n* [AZ Index](/azindex/)\\n* [Catalog Home](/)\\n* [Institution Home](https://northeastern.edu)\\n\\n\\n\\n\\n\\n\\n\\n[![Northeastern University](/images/logo.png)](https://www.northeastern.edu/)\\n\\n\\n\\n![](/images/search.svg)\\nToggle Search Visibility\\n\\n\\n\\nClose Search\\n![](/images/close.svg)\\n\\n\\nSearch catalog\\n\\nGo\\n\\n\\n\\n\\n---\\n\\n\\n\\n\\n\\n\\n\\n\\nAcademic Catalog 2024\\\\-2025\\n---------------------------\\n\\n\\n\\n\\n\\n\\n* [Home](/)›\\n* [Undergraduate](/undergraduate/)›\\n* Khoury College of Computer Sciences\\n\\n\\n\\n\\n\\n\\nKhoury College of Computer Sciences\\n===================================\\n\\n\\n\\n\\n\\n\\n\\n\\n\\n\\n2024\\\\-2025 Edition\\n\\n\\n\\n[2024\\\\-2025 Edition](/)\\n-----------------------\\n\\n\\n\\n* [Delivery of Services](/delivery-services/)\\n* [General Information](/general-information/)\\n* [Undergraduate](/undergraduate/)\\n\\t+ [Admission](/undergraduate/admission/)\\n\\t+ [Information for Entering Students](/undergraduate/information-entering-students/)\\n\\t+ [Financial Information](/undergraduate/expenses/)\\n\\t+ [Academic Policies and Procedures](/undergraduate/academic-policies-procedures/)\\n\\t+ [University Academics](/undergraduate/university-academics/)\\n\\t+ [College of Arts, Media and Design](/undergraduate/arts-media-design/)\\n\\t+ [D\\'Amore\\\\-\\u200bMcKim School of Business](/undergraduate/business/)\\n\\t+ [Khoury College of Computer Sciences](#)\\n\\t\\t- [Computer Science](/undergraduate/computer-information-science/computer-science/)\\n\\t\\t- [Cybersecurity](/undergraduate/computer-information-science/cybersecurity/)\\n\\t\\t- [Data Science](/undergraduate/computer-information-science/data-science/)\\n\\t\\t- [Khoury Combined Majors](/undergraduate/computer-information-science/computer-information-science-combined-majors/)\\n\\t\\t- [Accelerated Bachelor/\\u200bGraduate Degree Programs](/undergraduate/computer-information-science/accelerated-bachelor-graduate-degree-programs/)\\n\\t+ [College of Engineering](/undergraduate/engineering/)\\n\\t+ [Bouvé College of Health Sciences](/undergraduate/health-sciences/)\\n\\t+ [College of Science](/undergraduate/science/)\\n\\t+ [College of Social Sciences and Humanities](/undergraduate/social-sciences-humanities/)\\n* [College of Professional Studies Undergraduate](/professional-studies/)\\n* [Graduate](/graduate/)\\n* [Course Descriptions](/course-descriptions/)\\n* [Catalog Archives](/archive/)\\n* [Student Handbook](/handbook/)\\n\\n\\n\\n\\n\\n Print Options\\n \\n\\n \\n\\n\\n\\n\\n[Website](http://www.khoury.northeastern.edu/undergraduate)\\n\\n\\n\\n\\n\\n**Elizabeth Mynatt, PhD,** Dean\\n\\n\\n**Ben Hescott, PhD,**\\xa0Teaching Professor, Senior Associate Dean of Academic Programs and Student Experience\\n\\n\\n**Christo Wilson, PhD,**Associate Professor, Associate Dean of Undergraduate Programs, Director of Cybersecurity Program\\n\\n\\n**Byron Wallace, PhD,**\\xa0Associate Professor,Director of Data Science Program\\n\\n\\n\\n202 West Village H  \\n\\n617\\\\.373\\\\.2462[![](data:image/png;base64,iVBORw0KGgoAAAANSUhEUgAAABAAAAAQCAYAAAAf8/9hAAABcklEQVR4XpXTPUvDUBTH4aR2c2hBQXGpTiIORhBcBOvgYKf0Awi+4Ggr1MVPIIrYdnEpShddHIyLi6AVXVxsRRDRwbi4KNgu4lCIv8i/i6QRDzycy+09555LqOl5nhEUptPoJe1iDHU8oYlrlDw79m4QEbSLPexzsIc8hDRm8YBjLpj4q8EgxQdab+MNd4ghhQ2adIc1+ORAFEnWWfTDRp7GDfImlsIavKALLuqoqMGUCs4wHtagiQ5uc8kDyCOBKlP1k78QNTOZnMXCQRxWsbjl6iuskV41SQG2Gj9rikvcR1WcgKFDBa1LOEUK56hqv8BUFV3SGWkVS9JQ6Dsv4wQ1DKMPORUvkm78BhdQMI1CTa5I0yrcwSFqFD+SZ7DQesIkCG5S/JpkHYERQRmuNsrZ7Grc+Ef8/Bcoslkfae8Wc7CUHZ++TuAEBj86pHntjaDKXllPy6PW/gkKFaThwp/K87N8hDcQTTKKFTioSxqB8Q2BNX5JtAljwgAAAABJRU5ErkJggg== \"Call: 617.373.2462\")](# \"Call: 617.373.2462\")  \\n\\n[khoury\\\\-advising@northeastern.edu](mailto:khoury-advising@northeastern.edu)\\n\\n\\nComputing has transformed the way people work and live, and its applications are limitless. Today, an understanding of computing is critical in business, healthcare, science, digital art, and other areas of our information\\\\-driven society. Computing knowledge and computing technology also contribute to resolving major issues in an increasingly complex world.\\n\\n\\nThe Khoury College of Computer Sciences offers undergraduate programs that combine a strong foundation in computing with the opportunity to acquire a deep knowledge of another discipline in which computing plays a critical role. The college offers undergraduate degree programs in computer science (BS and BA), data science (BS), and cybersecurity (BS) and over 50 combined majors with partner departments in six other Northeastern University colleges, allowing students to engage in intense study in two disciplines. The Bachelor of Science in Computer Science emphasizes strong technical competence in computer science, mathematics, science, and electrical engineering. The Bachelor of Arts in Computer Science combines computer science with a broad\\\\-based liberal arts education. The Bachelor of Science in Data Science combines computer science, information science, mathematics, statistics, and probability theory into an integrated curriculum. The Bachelor of Science in Cybersecurity provides the fundamental knowledge of computer science with an essential focus on experiential learning through security\\\\-related courses.\\xa0\\n\\n\\n * [Academic Progression Standards](#text)\\n\\t+ [GPA Requirements for Graduation](#text)\\n\\t+ [Criteria for Academic Probation](#text)\\n\\t\\t- [First\\\\-Year Students](#text)\\n\\t\\t- [Upperclass and Transfer Students](#text)+ [Academic Dismissal from Major](#text)\\n\\t+ [Academic Dismissal from University](#text)* [Program Length](#text)\\n\\nAcademic Progression Standards\\n------------------------------\\n\\n\\n\\nIn addition to meeting university progression standards, it is expected that full\\\\-time Khoury students enroll in four courses with appropriate labs and recitations and successfully complete at least 12 semester hours each academic semester with an acceptable grade\\\\-point average as noted below. Any exceptions to the course load requirement must be approved by the student’s academic advisor prior to the start of each semester. Pass/fail courses are restricted to electives outside of the major, minor, and NUpath requirements.\\n\\n\\n### GPA Requirements for Graduation\\n\\n\\nA minimum cumulative GPA requirement of 2\\\\.000 in major (CS/CY/DS/IS) courses and a minimum cumulative GPA requirement of 2\\\\.000 overall are required for graduation.\\n\\n\\n### Criteria for Academic Probation\\n\\n\\nFull\\\\-time students in Khoury College of Computer Sciences will be placed on academic probation effective for the following academic semester for any of the reasons noted below:\\n\\n\\n* Not earning at least 12 semester hours in each academic full\\\\-term semester (fall, spring)\\n\\n\\n* Not following a program of study approved by the student’s academic advisor\\n\\n\\n#### First\\\\-Year Students\\n\\n\\n* Not maintaining an overall cumulative GPA of at least 1\\\\.800 at the end of each full\\\\-term semester (fall, spring) of the first\\\\-year curriculum and a GPA of at least 2\\\\.000 in the major at the end of the second academic full\\\\-term semester of the curriculum (spring)\\n\\n\\n#### Upperclass and Transfer Students\\n\\n\\n* Not maintaining an overall cumulative GPA of at least 2\\\\.000 and a GPA of at least 2\\\\.000 in the major at the end of the second academic full\\\\-term semester of the curriculum completed on campus (fall or spring) and at the end of each full\\\\-term academic semester thereafter (fall, spring)\\n\\n\\n### Academic Dismissal from Major\\n\\n\\nNot maintaining a GPA of at least 2\\\\.000 in the major at the end of the third academic full\\\\-term semester and at the end of each full\\\\-term academic semester (fall, spring) thereafter will result in dismissal from Khoury College of Computer Sciences.\\n\\n\\nStudents not following a program of study approved by the student’s academic advisor for more than one semester may be dismissed from Khoury College of Computer Sciences.\\n\\n\\n\\nStudents dismissed from their major but who are otherwise eligible to remain an active student within the university may continue within Khoury College of Computer Sciences as a transitional major for one semester.\\n\\n\\n### Academic Dismissal from University\\n\\n\\nStudents who remain on probation after two full\\\\-term academic semesters may be dismissed from the university. This action may appear on the transcript at the end of the second probationary semester. In addition, students who have below a 1\\\\.000 GPA or fewer than 4 earned semester hours in any semester or cumulatively may be dismissed at the discretion of their college. Students may appeal this decision to the Academic Standing Committee of their college. International students must consult with an advisor in the [Office of Global Services](https://international.northeastern.edu/ogs/)to discuss the impact of an academic dismissal as it relates to nonimmigrant visa status.\\n\\n\\nProgram Length\\n--------------\\n\\n\\n\\n\\nThe Khoury College of Computer Sciences prides itself on flexibility and a very supportive advising staff. Depending upon the number of entry\\\\-level/transfer credits, the academic program, and student planning, it is possible to complete the program within four years with at least one experiential experience and usually with two such experiences.\\n\\n\\n\\n\\n \\n\\n\\n\\n\\n\\n### Campus Locations\\n\\n\\n* [Arlington   \\nVAOpens New Window](https://arlington.northeastern.edu/)\\n* [Boston   \\nMAOpens New Window](https://www.northeastern.edu/campuses/boston/)\\n* [Burlington   \\nMAOpens New Window](https://www.burlington.northeastern.edu/)\\n* [Charlotte   \\nNCOpens New Window](https://charlotte.northeastern.edu/)\\n* [London   \\nUKOpens New Window](https://www.nchlondon.ac.uk/)\\n* [Miami   \\nFLOpens New Window](https://miami.northeastern.edu/)\\n* [Nahant   \\nMAOpens New Window](https://csi.northeastern.edu/)\\n* [Oakland   \\nCAOpens New Window](https://oakland.northeastern.edu/)\\n* [Portland   \\nMEOpens New Window](https://roux.northeastern.edu/)\\n* [Seattle   \\nWAOpens New Window](https://seattle.northeastern.edu/)\\n* [Silicon Valley   \\nCAOpens New Window](https://siliconvalley.northeastern.edu/)\\n* [Toronto   \\nONOpens New Window](https://toronto.northeastern.edu/)\\n* [Vancouver   \\nBCOpens New Window](https://vancouver.northeastern.edu/)\\n\\n\\n\\n\\n---\\n\\n\\n\\n* [Facebook. Opens New Window](https://www.facebook.com/northeastern/)\\n* [X. Opens New Window](https://x.com/Northeastern)\\n* [YouTube. Opens New Window](https://www.youtube.com/user/Northeastern)\\n* [Linkedin. Opens New Window](https://www.linkedin.com/school/northeastern-university/)\\n* [Instagram. Opens New Window](https://www.instagram.com/northeastern/)\\n* [TikTok. Opens New Window](https://www.tiktok.com/@northeasternu)\\n\\n\\n\\n Copyright 2024\\\\-2025 Northeastern University\\n \\n\\n\\n\\n\\n[Back to top](#header)\\n\\n\\n\\n\\nClose this window\\n\\nPrint Options\\n-------------\\n\\n\\n\\n\\n* [Send Page to Printer](#)\\n\\n\\nPrint this page.\\n* [Download Page (PDF)](/undergraduate/computer-information-science/computer-information-science.pdf)\\n\\nThe PDF will include all information unique to this page.\\n* [2023\\\\-24 Undergraduate Day PDF](/pdf/Northeastern University 2023-2024 Undergraduate Day Catalog.pdf)\\n* [2023\\\\-24 CPS Undergraduate PDF](/pdf/Northeastern University 2023-2024 CPS Undergraduate Catalog.pdf)\\n* [2023\\\\-24 Graduate/Law PDF](/pdf/Northeastern University 2023-2024 Graduate Catalog.pdf)\\n* [2023\\\\-24 Course Descriptions PDF](/pdf/Northeastern University 2023-2024 Course Descriptions.pdf)\\n\\n\\n\\n\\n\\n\\n'},\n",
       " {'url': 'https://catalog.northeastern.edu/graduate/computer-information-science/',\n",
       "  'content': \"\\n\\n\\n\\n\\nKhoury College of Computer Sciences \\\\< Northeastern University Academic Catalog\\n\\n\\n\\n\\n\\n\\n\\n\\n\\n\\n\\n\\n\\n\\n\\n\\n\\n\\n\\n\\n\\n\\n\\n\\n* [Skip to Content](#contentarea)\\n* [AZ Index](/azindex/)\\n* [Catalog Home](/)\\n* [Institution Home](https://northeastern.edu)\\n\\n\\n\\n\\n\\n\\n\\n[![Northeastern University](/images/logo.png)](https://www.northeastern.edu/)\\n\\n\\n\\n![](/images/search.svg)\\nToggle Search Visibility\\n\\n\\n\\nClose Search\\n![](/images/close.svg)\\n\\n\\nSearch catalog\\n\\nGo\\n\\n\\n\\n\\n---\\n\\n\\n\\n\\n\\n\\n\\n\\nAcademic Catalog 2024\\\\-2025\\n---------------------------\\n\\n\\n\\n\\n\\n\\n* [Home](/)›\\n* [Graduate](/graduate/)›\\n* Khoury College of Computer Sciences\\n\\n\\n\\n\\n\\n\\nKhoury College of Computer Sciences\\n===================================\\n\\n\\n\\n\\n\\n\\n\\n\\n\\n\\n2024\\\\-2025 Edition\\n\\n\\n\\n[2024\\\\-2025 Edition](/)\\n-----------------------\\n\\n\\n\\n* [Delivery of Services](/delivery-services/)\\n* [General Information](/general-information/)\\n* [Undergraduate](/undergraduate/)\\n* [College of Professional Studies Undergraduate](/professional-studies/)\\n* [Graduate](/graduate/)\\n\\t+ [Information for Entering Students](/graduate/information-entering-students/)\\n\\t+ [Financial Information](/graduate/expenses/)\\n\\t+ [Academic Policies and Procedures](/graduate/academic-policies-procedures/)\\n\\t+ [PhD Programs](/graduate/phdprograms/)\\n\\t+ [College of Arts, Media and Design](/graduate/arts-media-design/)\\n\\t+ [D'Amore\\\\-\\u200bMcKim School of Business](/graduate/business/)\\n\\t+ [Khoury College of Computer Sciences](#)\\n\\t\\t- [Academic Policies and Procedures](/graduate/computer-information-science/academic-policies-procedures/)\\n\\t\\t- [Computer Science](/graduate/computer-information-science/computer-science/)\\n\\t\\t- [Cybersecurity](/graduate/computer-information-science/cybersecurity/)\\n\\t\\t- [Interdisciplinary Programs](/graduate/computer-information-science/interdisciplinary/)\\n\\t+ [College of Engineering](/graduate/engineering/)\\n\\t+ [Bouvé College of Health Sciences](/graduate/health-sciences/)\\n\\t+ [School of Law](/graduate/law/)\\n\\t+ [College of Professional Studies](/graduate/professional-studies/)\\n\\t+ [College of Science](/graduate/science/)\\n\\t+ [College of Social Sciences and Humanities](/graduate/social-sciences-humanities/)\\n\\t+ [Mills College at Northeastern](/graduate/mills/)\\n\\t+ [Gordon Institute of Engineering Leadership](/graduate/gordon-institute/)\\n\\t+ [Additional Programs](/graduate/additional-programs/)\\n* [Course Descriptions](/course-descriptions/)\\n* [Catalog Archives](/archive/)\\n* [Student Handbook](/handbook/)\\n\\n\\n\\n\\n\\n Print Options\\n \\n\\n \\n\\n\\n\\n\\n[Website](https://khoury.northeastern.edu)\\n\\n\\n\\n\\n\\n**Elizabeth Mynatt, PhD,** Dean\\n\\n\\n**Ben Hescott, PhD,** Teaching Professor, Senior Associate Dean of Academic Programs and Student Experience\\n\\n\\n\\n**Amit Shesh, PhD,** Assistant Dean of Master's Programs\\n\\n\\n**********Byron Wallace PhD,********** Associate Dean for Graduate Programs\\n\\n\\n**********Meg Bebis,**********Senior\\xa0Director for Graduate Student Services and Career Development\\n\\n\\n**********617\\\\.373\\\\.6840**********  \\n\\n[khoury\\\\-](mailto:Khoury-gradschool@northeastern.edu)[gradschool@northeastern.edu](mailto:gradschool@ccs.neu.edu)\\n\\n\\nAt the Khoury College of Computer Sciences, we are inspired by our information\\\\-driven world and strive to make it a better place. Our students engage in rigorous learning and real\\\\-world co\\\\-op experiences. Our renowned faculty shapes minds, sparks innovation, and inspires ideas. Our interdisciplinary research breaks new ground to solve everyday problems.\\n\\n\\nKhoury\\xa0maintains a strong research program with significant funding from the major federal research agencies and private industry. With a substantial increase in faculty strength and research funding in recent years, we are actively seeking highly motivated, bright, hardworking students who are interested in pursuing a PhD degree in computer science or in the interdisciplinary field of cybersecurity, network science, or personal health informatics. Graduate students and faculty members are involved in exciting projects in a wide range of research areas, including programming languages, software engineering, distributed and parallel computing, cryptography, network security, health informatics, network science, databases, information retrieval, robotics, visualization, and artificial intelligence. Colloquia and weekly research seminars contribute to the vibrant research atmosphere in the college.\\n\\n\\nOur curriculum encompasses both the breadth and depth needed for graduate school. Specialized, advanced courses for PhD students in computer science, cybersecurity, and personal health informatics\\xa0are designed to prepare all students for research early in their doctoral education.\\n\\n\\nThe Master of Science in Computer Science curriculum combines the study of basic algorithms and theoretical computer science principles with advanced programming and software design methods. It offers students the opportunity to develop the analytical and problem\\\\-solving skills needed to pursue challenging professional careers.\\n\\n\\nKhoury also offers the Master of Science in Artificial Intelligence, which provides a comprehensive framework of theory and practice\\xa0in this emerging field and incorporates elements of data science, robotics, and machine learning; and the Master of Science in Cybersecurity focuses on information technology and incorporates the understanding of the social sciences, law, criminology, and management needed to prevent and combat cyberattacks.\\n\\n\\nIn addition, we offer four interdisciplinary master’s degree programs: the Master of Science in Health Informatics with Bouvé College of Health Sciences, which seeks to prepare graduates to use information technology to improve healthcare delivery and outcomes; the Master of Science in Data Science with the College of Engineering, which is designed to give students a comprehensive framework for processing, modeling, analyzing, and reasoning about data; the Master of Science in Robotics with the College of Engineering, which offers students an opportunity to obtain a comprehensive understanding of the algorithms, sensors, control systems, and mechanisms used in robotics; and the Master of Science in Game Science and Design with the College of Arts, Media and Design, which seeks to provide students with a comprehensive understanding of how successful game products are created in a player\\\\-centric environment.\\n\\n\\nThe Align program enables intellectually curious students to earn a Master of Science in Computer Science or Data Science without a background in the field. Regardless of undergraduate major or prior programming experience, Align's custom curricula is designed to prepare students for high\\\\-demand industries.\\xa0\\n\\n\\nKhoury College is a tightly knit community, and the faculty, staff, and students interact regularly through town hall meetings, social gatherings, lectures, and seminars. A diverse, multicultural graduate student body and faculty encourage rich extracurricular interaction. The Master's Council organizes a number of social events to promote friendship and camaraderie within the Khoury\\xa0community.\\n\\n\\n\\n\\n \\n\\n\\n\\n\\n\\n### Campus Locations\\n\\n\\n* [Arlington   \\nVAOpens New Window](https://arlington.northeastern.edu/)\\n* [Boston   \\nMAOpens New Window](https://www.northeastern.edu/campuses/boston/)\\n* [Burlington   \\nMAOpens New Window](https://www.burlington.northeastern.edu/)\\n* [Charlotte   \\nNCOpens New Window](https://charlotte.northeastern.edu/)\\n* [London   \\nUKOpens New Window](https://www.nchlondon.ac.uk/)\\n* [Miami   \\nFLOpens New Window](https://miami.northeastern.edu/)\\n* [Nahant   \\nMAOpens New Window](https://csi.northeastern.edu/)\\n* [Oakland   \\nCAOpens New Window](https://oakland.northeastern.edu/)\\n* [Portland   \\nMEOpens New Window](https://roux.northeastern.edu/)\\n* [Seattle   \\nWAOpens New Window](https://seattle.northeastern.edu/)\\n* [Silicon Valley   \\nCAOpens New Window](https://siliconvalley.northeastern.edu/)\\n* [Toronto   \\nONOpens New Window](https://toronto.northeastern.edu/)\\n* [Vancouver   \\nBCOpens New Window](https://vancouver.northeastern.edu/)\\n\\n\\n\\n\\n---\\n\\n\\n\\n* [Facebook. Opens New Window](https://www.facebook.com/northeastern/)\\n* [X. Opens New Window](https://x.com/Northeastern)\\n* [YouTube. Opens New Window](https://www.youtube.com/user/Northeastern)\\n* [Linkedin. Opens New Window](https://www.linkedin.com/school/northeastern-university/)\\n* [Instagram. Opens New Window](https://www.instagram.com/northeastern/)\\n* [TikTok. Opens New Window](https://www.tiktok.com/@northeasternu)\\n\\n\\n\\n Copyright 2024\\\\-2025 Northeastern University\\n \\n\\n\\n\\n\\n[Back to top](#header)\\n\\n\\n\\n\\nClose this window\\n\\nPrint Options\\n-------------\\n\\n\\n\\n\\n* [Send Page to Printer](#)\\n\\n\\nPrint this page.\\n* [Download Page (PDF)](/graduate/computer-information-science/computer-information-science.pdf)\\n\\nThe PDF will include all information unique to this page.\\n* [2023\\\\-24 Undergraduate Day PDF](/pdf/Northeastern University 2023-2024 Undergraduate Day Catalog.pdf)\\n* [2023\\\\-24 CPS Undergraduate PDF](/pdf/Northeastern University 2023-2024 CPS Undergraduate Catalog.pdf)\\n* [2023\\\\-24 Graduate/Law PDF](/pdf/Northeastern University 2023-2024 Graduate Catalog.pdf)\\n* [2023\\\\-24 Course Descriptions PDF](/pdf/Northeastern University 2023-2024 Course Descriptions.pdf)\\n\\n\\n\\n\\n\\n\\n\"}]"
      ]
     },
     "execution_count": 21,
     "metadata": {},
     "output_type": "execute_result"
    }
   ],
   "source": [
    "\n",
    "# Display first few results to verify\n",
    "scraped_pages  # Display first two items as a sample\n"
   ]
  },
  {
   "cell_type": "code",
   "execution_count": null,
   "id": "8abbee65",
   "metadata": {},
   "outputs": [],
   "source": []
  }
 ],
 "metadata": {
  "kernelspec": {
   "display_name": "base",
   "language": "python",
   "name": "python3"
  },
  "language_info": {
   "codemirror_mode": {
    "name": "ipython",
    "version": 3
   },
   "file_extension": ".py",
   "mimetype": "text/x-python",
   "name": "python",
   "nbconvert_exporter": "python",
   "pygments_lexer": "ipython3",
   "version": "3.11.5"
  }
 },
 "nbformat": 4,
 "nbformat_minor": 5
}
